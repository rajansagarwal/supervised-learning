{
  "nbformat": 4,
  "nbformat_minor": 0,
  "metadata": {
    "colab": {
      "name": "twitter-human-verification",
      "provenance": [],
      "collapsed_sections": []
    },
    "kernelspec": {
      "name": "python3",
      "display_name": "Python 3"
    },
    "language_info": {
      "name": "python"
    }
  },
  "cells": [
    {
      "cell_type": "code",
      "source": [
        "import pandas as pd\n",
        "\n",
        "df = pd.read_csv('twitterbot.csv')\n",
        "df = df[['Bio', 'Post', 'Joined']]"
      ],
      "metadata": {
        "id": "hUwbBwwY72wq"
      },
      "execution_count": 40,
      "outputs": []
    },
    {
      "cell_type": "code",
      "source": [
        "import pandas as pd\n",
        "\n",
        "data = pd.read_csv(\"Ethereum_tweets.csv\")\n",
        "\n",
        "data.head()"
      ],
      "metadata": {
        "colab": {
          "base_uri": "https://localhost:8080/",
          "height": 444
        },
        "id": "Y9vg-VDkizIi",
        "outputId": "23098529-b517-4f42-f9bf-575113faeacc"
      },
      "execution_count": 41,
      "outputs": [
        {
          "output_type": "execute_result",
          "data": {
            "text/plain": [
              "                    user_name user_location  \\\n",
              "0  #1 Crypto Currency TRADING           NaN   \n",
              "1                      Reyrey  Kuala Lumpur   \n",
              "2                 akter jahan           NaN   \n",
              "3                       riyan           NaN   \n",
              "4            Michelle Eriksen           NaN   \n",
              "\n",
              "                                    user_description  \\\n",
              "0  Profit thought trading, Learn , Trade & Earn💲....   \n",
              "1  Artist | NFT Broker & Collector for AnideaNFT ...   \n",
              "2                                                NaN   \n",
              "3                  i always paricipated your project   \n",
              "4                           Art Creator, NFT, Crypto   \n",
              "\n",
              "                user_created  user_followers  user_friends  user_favourites  \\\n",
              "0  2021-11-10 10:42:01+00:00               4             0                0   \n",
              "1  2011-03-07 07:22:57+00:00             343           650              589   \n",
              "2  2021-10-28 13:28:05+00:00               1             2                0   \n",
              "3  2021-09-16 16:59:11+00:00              11           127               99   \n",
              "4  2021-08-11 06:40:08+00:00             522          1428               16   \n",
              "\n",
              "   user_verified                       date  \\\n",
              "0          False  2021-11-15 07:26:39+00:00   \n",
              "1          False  2021-11-15 07:26:35+00:00   \n",
              "2          False  2021-11-15 07:26:32+00:00   \n",
              "3          False  2021-11-15 07:26:30+00:00   \n",
              "4          False  2021-11-15 07:26:30+00:00   \n",
              "\n",
              "                                                text  \\\n",
              "0  Get upto 1000 that’s 10x with our premium spot...   \n",
              "1  Adopted a Hypocat #053, “Crazy Rich Cat” 🤑💵💵💵🤩...   \n",
              "2  Top 10 Coins by Social Engagement over the las...   \n",
              "3  Requesting faucet funds into 0x5278942b39deD8c...   \n",
              "4  New Listing BTS 0.008ETH !! \\n#NFTs  #nftcolle...   \n",
              "\n",
              "                                            hashtags               source  \\\n",
              "0                                                NaN  Twitter for Android   \n",
              "1  ['SupportingCreators', 'CryptoArt', 'CryptoArt...   Twitter for iPhone   \n",
              "2              ['LunarCrush', 'bitcoin', 'dogecoin']      Twitter Web App   \n",
              "3                            ['Rinkeby', 'Ethereum']      Twitter Web App   \n",
              "4  ['NFTs', 'nftcollector', 'NFTCommunity', 'art'...      Twitter Web App   \n",
              "\n",
              "   is_retweet  \n",
              "0       False  \n",
              "1       False  \n",
              "2       False  \n",
              "3       False  \n",
              "4       False  "
            ],
            "text/html": [
              "\n",
              "  <div id=\"df-9c524b44-eec4-43b5-8ced-623cbf97b79f\">\n",
              "    <div class=\"colab-df-container\">\n",
              "      <div>\n",
              "<style scoped>\n",
              "    .dataframe tbody tr th:only-of-type {\n",
              "        vertical-align: middle;\n",
              "    }\n",
              "\n",
              "    .dataframe tbody tr th {\n",
              "        vertical-align: top;\n",
              "    }\n",
              "\n",
              "    .dataframe thead th {\n",
              "        text-align: right;\n",
              "    }\n",
              "</style>\n",
              "<table border=\"1\" class=\"dataframe\">\n",
              "  <thead>\n",
              "    <tr style=\"text-align: right;\">\n",
              "      <th></th>\n",
              "      <th>user_name</th>\n",
              "      <th>user_location</th>\n",
              "      <th>user_description</th>\n",
              "      <th>user_created</th>\n",
              "      <th>user_followers</th>\n",
              "      <th>user_friends</th>\n",
              "      <th>user_favourites</th>\n",
              "      <th>user_verified</th>\n",
              "      <th>date</th>\n",
              "      <th>text</th>\n",
              "      <th>hashtags</th>\n",
              "      <th>source</th>\n",
              "      <th>is_retweet</th>\n",
              "    </tr>\n",
              "  </thead>\n",
              "  <tbody>\n",
              "    <tr>\n",
              "      <th>0</th>\n",
              "      <td>#1 Crypto Currency TRADING</td>\n",
              "      <td>NaN</td>\n",
              "      <td>Profit thought trading, Learn , Trade &amp; Earn💲....</td>\n",
              "      <td>2021-11-10 10:42:01+00:00</td>\n",
              "      <td>4</td>\n",
              "      <td>0</td>\n",
              "      <td>0</td>\n",
              "      <td>False</td>\n",
              "      <td>2021-11-15 07:26:39+00:00</td>\n",
              "      <td>Get upto 1000 that’s 10x with our premium spot...</td>\n",
              "      <td>NaN</td>\n",
              "      <td>Twitter for Android</td>\n",
              "      <td>False</td>\n",
              "    </tr>\n",
              "    <tr>\n",
              "      <th>1</th>\n",
              "      <td>Reyrey</td>\n",
              "      <td>Kuala Lumpur</td>\n",
              "      <td>Artist | NFT Broker &amp; Collector for AnideaNFT ...</td>\n",
              "      <td>2011-03-07 07:22:57+00:00</td>\n",
              "      <td>343</td>\n",
              "      <td>650</td>\n",
              "      <td>589</td>\n",
              "      <td>False</td>\n",
              "      <td>2021-11-15 07:26:35+00:00</td>\n",
              "      <td>Adopted a Hypocat #053, “Crazy Rich Cat” 🤑💵💵💵🤩...</td>\n",
              "      <td>['SupportingCreators', 'CryptoArt', 'CryptoArt...</td>\n",
              "      <td>Twitter for iPhone</td>\n",
              "      <td>False</td>\n",
              "    </tr>\n",
              "    <tr>\n",
              "      <th>2</th>\n",
              "      <td>akter jahan</td>\n",
              "      <td>NaN</td>\n",
              "      <td>NaN</td>\n",
              "      <td>2021-10-28 13:28:05+00:00</td>\n",
              "      <td>1</td>\n",
              "      <td>2</td>\n",
              "      <td>0</td>\n",
              "      <td>False</td>\n",
              "      <td>2021-11-15 07:26:32+00:00</td>\n",
              "      <td>Top 10 Coins by Social Engagement over the las...</td>\n",
              "      <td>['LunarCrush', 'bitcoin', 'dogecoin']</td>\n",
              "      <td>Twitter Web App</td>\n",
              "      <td>False</td>\n",
              "    </tr>\n",
              "    <tr>\n",
              "      <th>3</th>\n",
              "      <td>riyan</td>\n",
              "      <td>NaN</td>\n",
              "      <td>i always paricipated your project</td>\n",
              "      <td>2021-09-16 16:59:11+00:00</td>\n",
              "      <td>11</td>\n",
              "      <td>127</td>\n",
              "      <td>99</td>\n",
              "      <td>False</td>\n",
              "      <td>2021-11-15 07:26:30+00:00</td>\n",
              "      <td>Requesting faucet funds into 0x5278942b39deD8c...</td>\n",
              "      <td>['Rinkeby', 'Ethereum']</td>\n",
              "      <td>Twitter Web App</td>\n",
              "      <td>False</td>\n",
              "    </tr>\n",
              "    <tr>\n",
              "      <th>4</th>\n",
              "      <td>Michelle Eriksen</td>\n",
              "      <td>NaN</td>\n",
              "      <td>Art Creator, NFT, Crypto</td>\n",
              "      <td>2021-08-11 06:40:08+00:00</td>\n",
              "      <td>522</td>\n",
              "      <td>1428</td>\n",
              "      <td>16</td>\n",
              "      <td>False</td>\n",
              "      <td>2021-11-15 07:26:30+00:00</td>\n",
              "      <td>New Listing BTS 0.008ETH !! \\n#NFTs  #nftcolle...</td>\n",
              "      <td>['NFTs', 'nftcollector', 'NFTCommunity', 'art'...</td>\n",
              "      <td>Twitter Web App</td>\n",
              "      <td>False</td>\n",
              "    </tr>\n",
              "  </tbody>\n",
              "</table>\n",
              "</div>\n",
              "      <button class=\"colab-df-convert\" onclick=\"convertToInteractive('df-9c524b44-eec4-43b5-8ced-623cbf97b79f')\"\n",
              "              title=\"Convert this dataframe to an interactive table.\"\n",
              "              style=\"display:none;\">\n",
              "        \n",
              "  <svg xmlns=\"http://www.w3.org/2000/svg\" height=\"24px\"viewBox=\"0 0 24 24\"\n",
              "       width=\"24px\">\n",
              "    <path d=\"M0 0h24v24H0V0z\" fill=\"none\"/>\n",
              "    <path d=\"M18.56 5.44l.94 2.06.94-2.06 2.06-.94-2.06-.94-.94-2.06-.94 2.06-2.06.94zm-11 1L8.5 8.5l.94-2.06 2.06-.94-2.06-.94L8.5 2.5l-.94 2.06-2.06.94zm10 10l.94 2.06.94-2.06 2.06-.94-2.06-.94-.94-2.06-.94 2.06-2.06.94z\"/><path d=\"M17.41 7.96l-1.37-1.37c-.4-.4-.92-.59-1.43-.59-.52 0-1.04.2-1.43.59L10.3 9.45l-7.72 7.72c-.78.78-.78 2.05 0 2.83L4 21.41c.39.39.9.59 1.41.59.51 0 1.02-.2 1.41-.59l7.78-7.78 2.81-2.81c.8-.78.8-2.07 0-2.86zM5.41 20L4 18.59l7.72-7.72 1.47 1.35L5.41 20z\"/>\n",
              "  </svg>\n",
              "      </button>\n",
              "      \n",
              "  <style>\n",
              "    .colab-df-container {\n",
              "      display:flex;\n",
              "      flex-wrap:wrap;\n",
              "      gap: 12px;\n",
              "    }\n",
              "\n",
              "    .colab-df-convert {\n",
              "      background-color: #E8F0FE;\n",
              "      border: none;\n",
              "      border-radius: 50%;\n",
              "      cursor: pointer;\n",
              "      display: none;\n",
              "      fill: #1967D2;\n",
              "      height: 32px;\n",
              "      padding: 0 0 0 0;\n",
              "      width: 32px;\n",
              "    }\n",
              "\n",
              "    .colab-df-convert:hover {\n",
              "      background-color: #E2EBFA;\n",
              "      box-shadow: 0px 1px 2px rgba(60, 64, 67, 0.3), 0px 1px 3px 1px rgba(60, 64, 67, 0.15);\n",
              "      fill: #174EA6;\n",
              "    }\n",
              "\n",
              "    [theme=dark] .colab-df-convert {\n",
              "      background-color: #3B4455;\n",
              "      fill: #D2E3FC;\n",
              "    }\n",
              "\n",
              "    [theme=dark] .colab-df-convert:hover {\n",
              "      background-color: #434B5C;\n",
              "      box-shadow: 0px 1px 3px 1px rgba(0, 0, 0, 0.15);\n",
              "      filter: drop-shadow(0px 1px 2px rgba(0, 0, 0, 0.3));\n",
              "      fill: #FFFFFF;\n",
              "    }\n",
              "  </style>\n",
              "\n",
              "      <script>\n",
              "        const buttonEl =\n",
              "          document.querySelector('#df-9c524b44-eec4-43b5-8ced-623cbf97b79f button.colab-df-convert');\n",
              "        buttonEl.style.display =\n",
              "          google.colab.kernel.accessAllowed ? 'block' : 'none';\n",
              "\n",
              "        async function convertToInteractive(key) {\n",
              "          const element = document.querySelector('#df-9c524b44-eec4-43b5-8ced-623cbf97b79f');\n",
              "          const dataTable =\n",
              "            await google.colab.kernel.invokeFunction('convertToInteractive',\n",
              "                                                     [key], {});\n",
              "          if (!dataTable) return;\n",
              "\n",
              "          const docLinkHtml = 'Like what you see? Visit the ' +\n",
              "            '<a target=\"_blank\" href=https://colab.research.google.com/notebooks/data_table.ipynb>data table notebook</a>'\n",
              "            + ' to learn more about interactive tables.';\n",
              "          element.innerHTML = '';\n",
              "          dataTable['output_type'] = 'display_data';\n",
              "          await google.colab.output.renderOutput(dataTable, element);\n",
              "          const docLink = document.createElement('div');\n",
              "          docLink.innerHTML = docLinkHtml;\n",
              "          element.appendChild(docLink);\n",
              "        }\n",
              "      </script>\n",
              "    </div>\n",
              "  </div>\n",
              "  "
            ]
          },
          "metadata": {},
          "execution_count": 41
        }
      ]
    },
    {
      "cell_type": "code",
      "source": [
        "data = data[[\"user_name\",\"text\"]]\n",
        "data.head()"
      ],
      "metadata": {
        "colab": {
          "base_uri": "https://localhost:8080/",
          "height": 206
        },
        "id": "n-T_JjvSi2OI",
        "outputId": "cacef355-ff68-4de7-8195-5a1a6c388293"
      },
      "execution_count": 43,
      "outputs": [
        {
          "output_type": "execute_result",
          "data": {
            "text/plain": [
              "                    user_name  \\\n",
              "0  #1 Crypto Currency TRADING   \n",
              "1                      Reyrey   \n",
              "2                 akter jahan   \n",
              "3                       riyan   \n",
              "4            Michelle Eriksen   \n",
              "\n",
              "                                                text  \n",
              "0  Get upto 1000 that’s 10x with our premium spot...  \n",
              "1  Adopted a Hypocat #053, “Crazy Rich Cat” 🤑💵💵💵🤩...  \n",
              "2  Top 10 Coins by Social Engagement over the las...  \n",
              "3  Requesting faucet funds into 0x5278942b39deD8c...  \n",
              "4  New Listing BTS 0.008ETH !! \\n#NFTs  #nftcolle...  "
            ],
            "text/html": [
              "\n",
              "  <div id=\"df-5881fd87-a434-4a67-a6ac-c03554b13e71\">\n",
              "    <div class=\"colab-df-container\">\n",
              "      <div>\n",
              "<style scoped>\n",
              "    .dataframe tbody tr th:only-of-type {\n",
              "        vertical-align: middle;\n",
              "    }\n",
              "\n",
              "    .dataframe tbody tr th {\n",
              "        vertical-align: top;\n",
              "    }\n",
              "\n",
              "    .dataframe thead th {\n",
              "        text-align: right;\n",
              "    }\n",
              "</style>\n",
              "<table border=\"1\" class=\"dataframe\">\n",
              "  <thead>\n",
              "    <tr style=\"text-align: right;\">\n",
              "      <th></th>\n",
              "      <th>user_name</th>\n",
              "      <th>text</th>\n",
              "    </tr>\n",
              "  </thead>\n",
              "  <tbody>\n",
              "    <tr>\n",
              "      <th>0</th>\n",
              "      <td>#1 Crypto Currency TRADING</td>\n",
              "      <td>Get upto 1000 that’s 10x with our premium spot...</td>\n",
              "    </tr>\n",
              "    <tr>\n",
              "      <th>1</th>\n",
              "      <td>Reyrey</td>\n",
              "      <td>Adopted a Hypocat #053, “Crazy Rich Cat” 🤑💵💵💵🤩...</td>\n",
              "    </tr>\n",
              "    <tr>\n",
              "      <th>2</th>\n",
              "      <td>akter jahan</td>\n",
              "      <td>Top 10 Coins by Social Engagement over the las...</td>\n",
              "    </tr>\n",
              "    <tr>\n",
              "      <th>3</th>\n",
              "      <td>riyan</td>\n",
              "      <td>Requesting faucet funds into 0x5278942b39deD8c...</td>\n",
              "    </tr>\n",
              "    <tr>\n",
              "      <th>4</th>\n",
              "      <td>Michelle Eriksen</td>\n",
              "      <td>New Listing BTS 0.008ETH !! \\n#NFTs  #nftcolle...</td>\n",
              "    </tr>\n",
              "  </tbody>\n",
              "</table>\n",
              "</div>\n",
              "      <button class=\"colab-df-convert\" onclick=\"convertToInteractive('df-5881fd87-a434-4a67-a6ac-c03554b13e71')\"\n",
              "              title=\"Convert this dataframe to an interactive table.\"\n",
              "              style=\"display:none;\">\n",
              "        \n",
              "  <svg xmlns=\"http://www.w3.org/2000/svg\" height=\"24px\"viewBox=\"0 0 24 24\"\n",
              "       width=\"24px\">\n",
              "    <path d=\"M0 0h24v24H0V0z\" fill=\"none\"/>\n",
              "    <path d=\"M18.56 5.44l.94 2.06.94-2.06 2.06-.94-2.06-.94-.94-2.06-.94 2.06-2.06.94zm-11 1L8.5 8.5l.94-2.06 2.06-.94-2.06-.94L8.5 2.5l-.94 2.06-2.06.94zm10 10l.94 2.06.94-2.06 2.06-.94-2.06-.94-.94-2.06-.94 2.06-2.06.94z\"/><path d=\"M17.41 7.96l-1.37-1.37c-.4-.4-.92-.59-1.43-.59-.52 0-1.04.2-1.43.59L10.3 9.45l-7.72 7.72c-.78.78-.78 2.05 0 2.83L4 21.41c.39.39.9.59 1.41.59.51 0 1.02-.2 1.41-.59l7.78-7.78 2.81-2.81c.8-.78.8-2.07 0-2.86zM5.41 20L4 18.59l7.72-7.72 1.47 1.35L5.41 20z\"/>\n",
              "  </svg>\n",
              "      </button>\n",
              "      \n",
              "  <style>\n",
              "    .colab-df-container {\n",
              "      display:flex;\n",
              "      flex-wrap:wrap;\n",
              "      gap: 12px;\n",
              "    }\n",
              "\n",
              "    .colab-df-convert {\n",
              "      background-color: #E8F0FE;\n",
              "      border: none;\n",
              "      border-radius: 50%;\n",
              "      cursor: pointer;\n",
              "      display: none;\n",
              "      fill: #1967D2;\n",
              "      height: 32px;\n",
              "      padding: 0 0 0 0;\n",
              "      width: 32px;\n",
              "    }\n",
              "\n",
              "    .colab-df-convert:hover {\n",
              "      background-color: #E2EBFA;\n",
              "      box-shadow: 0px 1px 2px rgba(60, 64, 67, 0.3), 0px 1px 3px 1px rgba(60, 64, 67, 0.15);\n",
              "      fill: #174EA6;\n",
              "    }\n",
              "\n",
              "    [theme=dark] .colab-df-convert {\n",
              "      background-color: #3B4455;\n",
              "      fill: #D2E3FC;\n",
              "    }\n",
              "\n",
              "    [theme=dark] .colab-df-convert:hover {\n",
              "      background-color: #434B5C;\n",
              "      box-shadow: 0px 1px 3px 1px rgba(0, 0, 0, 0.15);\n",
              "      filter: drop-shadow(0px 1px 2px rgba(0, 0, 0, 0.3));\n",
              "      fill: #FFFFFF;\n",
              "    }\n",
              "  </style>\n",
              "\n",
              "      <script>\n",
              "        const buttonEl =\n",
              "          document.querySelector('#df-5881fd87-a434-4a67-a6ac-c03554b13e71 button.colab-df-convert');\n",
              "        buttonEl.style.display =\n",
              "          google.colab.kernel.accessAllowed ? 'block' : 'none';\n",
              "\n",
              "        async function convertToInteractive(key) {\n",
              "          const element = document.querySelector('#df-5881fd87-a434-4a67-a6ac-c03554b13e71');\n",
              "          const dataTable =\n",
              "            await google.colab.kernel.invokeFunction('convertToInteractive',\n",
              "                                                     [key], {});\n",
              "          if (!dataTable) return;\n",
              "\n",
              "          const docLinkHtml = 'Like what you see? Visit the ' +\n",
              "            '<a target=\"_blank\" href=https://colab.research.google.com/notebooks/data_table.ipynb>data table notebook</a>'\n",
              "            + ' to learn more about interactive tables.';\n",
              "          element.innerHTML = '';\n",
              "          dataTable['output_type'] = 'display_data';\n",
              "          await google.colab.output.renderOutput(dataTable, element);\n",
              "          const docLink = document.createElement('div');\n",
              "          docLink.innerHTML = docLinkHtml;\n",
              "          element.appendChild(docLink);\n",
              "        }\n",
              "      </script>\n",
              "    </div>\n",
              "  </div>\n",
              "  "
            ]
          },
          "metadata": {},
          "execution_count": 43
        }
      ]
    },
    {
      "cell_type": "code",
      "source": [
        "import re\n",
        "from gensim.parsing.preprocessing import remove_stopwords\n",
        "import string\n",
        "import unicodedata\n",
        "\n",
        "def lower_case(text):\n",
        "    return text.lower()\n",
        "\n",
        "def remove_punctuation(text):\n",
        "    text_list = [char for char in text if char not in string.punctuation]\n",
        "    clean_text = \"\".join(text_list)\n",
        "    return clean_text\n",
        "\n",
        "def remove_numbers(text):\n",
        "    text_list = []\n",
        "    for i in text:\n",
        "        if not re.search(\"\\d\", i):\n",
        "            text_list.append(i)\n",
        "    return \"\".join(text_list)\n",
        "\n",
        "def remove_special_char(text):\n",
        "    pat =  r'[^a-zA-z0-9]' \n",
        "    return re.sub(pat, \" \", text)\n",
        "\n",
        "def remove_square_bracket(text):\n",
        "    clean_text = re.sub(r'\\[[0-9]*\\]', ' ', text)\n",
        "    return clean_text\n",
        "\n",
        "def remove_white_spaces_char(text):\n",
        "    clean_text = re.sub(r'\\s+', ' ', text)\n",
        "    \n",
        "    return clean_text\n",
        "\n",
        "def remove_unicode_char(text):\n",
        "    new_text = unicodedata.normalize('NFKD', text).encode('ascii', 'ignore').decode('utf-8', 'ignore')\n",
        "    return new_text\n",
        "\n",
        "\n",
        "def remove_user(text):\n",
        "    clean_text = re.sub('(@[A-Za-z]+[A-Za-z0-9-_]+)', '', text)\n",
        "    \n",
        "    return clean_text\n",
        "\n",
        "def remove_links(text):\n",
        "    clean_text = re.sub(r'http\\S+', '', text)\n",
        "    clean_text = re.sub(r'bit.ly/\\S+', '', text)\n",
        "    clean_text = clean_text.strip('[link]')\n",
        "    \n",
        "    return clean_text\n",
        "\n",
        "def remove_html(text):\n",
        "    html = re.compile('<.*?>')\n",
        "    \n",
        "    return html.sub(r'',text)\n",
        "\n",
        "def remove_email(text):\n",
        "    email = re.compile(r'[\\w\\.-]+@[\\w\\.-]+')\n",
        "    return email.sub(r'',text)\n",
        "\n",
        "def remove_stopwords_from_text(text):\n",
        "    \n",
        "    clean_text = remove_stopwords(text)\n",
        "    \n",
        "    return clean_text"
      ],
      "metadata": {
        "id": "hh6CbWroi2Kx"
      },
      "execution_count": 44,
      "outputs": []
    },
    {
      "cell_type": "code",
      "source": [
        "data[\"clean_text\"] = data[\"text\"].apply(lower_case)\n",
        "data[\"clean_text\"] = data[\"clean_text\"].apply(remove_punctuation)\n",
        "data[\"clean_text\"] = data[\"clean_text\"].apply(remove_numbers)\n",
        "data[\"clean_text\"] = data[\"clean_text\"].apply(remove_special_char)\n",
        "data[\"clean_text\"] = data[\"clean_text\"].apply(remove_square_bracket)\n",
        "data[\"clean_text\"] = data[\"clean_text\"].apply(remove_white_spaces_char)\n",
        "data[\"clean_text\"] = data[\"clean_text\"].apply(remove_unicode_char)\n",
        "data[\"clean_text\"] = data[\"clean_text\"].apply(remove_user)\n",
        "data[\"clean_text\"] = data[\"clean_text\"].apply(remove_links)\n",
        "data[\"clean_text\"] = data[\"clean_text\"].apply(remove_html)\n",
        "data[\"clean_text\"] = data[\"clean_text\"].apply(remove_email)\n",
        "data[\"clean_text\"] = data[\"clean_text\"].apply(remove_stopwords_from_text)"
      ],
      "metadata": {
        "id": "A72pnuxti2Ig"
      },
      "execution_count": 45,
      "outputs": []
    },
    {
      "cell_type": "code",
      "source": [
        "data = data.drop(data[[\"user_name\"]], axis = 1)\n",
        "data.head()"
      ],
      "metadata": {
        "colab": {
          "base_uri": "https://localhost:8080/",
          "height": 206
        },
        "id": "Fff-OLq_i2GH",
        "outputId": "c72b1550-d5b0-4120-ef3b-8451ca9e3719"
      },
      "execution_count": 46,
      "outputs": [
        {
          "output_type": "execute_result",
          "data": {
            "text/plain": [
              "                                                text  \\\n",
              "0  Get upto 1000 that’s 10x with our premium spot...   \n",
              "1  Adopted a Hypocat #053, “Crazy Rich Cat” 🤑💵💵💵🤩...   \n",
              "2  Top 10 Coins by Social Engagement over the las...   \n",
              "3  Requesting faucet funds into 0x5278942b39deD8c...   \n",
              "4  New Listing BTS 0.008ETH !! \\n#NFTs  #nftcolle...   \n",
              "\n",
              "                                          clean_text  \n",
              "0  upto s x premium spot trading signals accurate...  \n",
              "1  adopted hypocat crazy rich cat hypocatclub meo...  \n",
              "2  coins social engagement hrs lunarcrush btc bit...  \n",
              "3  requesting faucet funds xbdedcbdadeaecefdca ri...  \n",
              "4  ew listing bts eth nfts nftcollector nftcommun...  "
            ],
            "text/html": [
              "\n",
              "  <div id=\"df-b58dc980-799d-43bc-b04e-9699e1110343\">\n",
              "    <div class=\"colab-df-container\">\n",
              "      <div>\n",
              "<style scoped>\n",
              "    .dataframe tbody tr th:only-of-type {\n",
              "        vertical-align: middle;\n",
              "    }\n",
              "\n",
              "    .dataframe tbody tr th {\n",
              "        vertical-align: top;\n",
              "    }\n",
              "\n",
              "    .dataframe thead th {\n",
              "        text-align: right;\n",
              "    }\n",
              "</style>\n",
              "<table border=\"1\" class=\"dataframe\">\n",
              "  <thead>\n",
              "    <tr style=\"text-align: right;\">\n",
              "      <th></th>\n",
              "      <th>text</th>\n",
              "      <th>clean_text</th>\n",
              "    </tr>\n",
              "  </thead>\n",
              "  <tbody>\n",
              "    <tr>\n",
              "      <th>0</th>\n",
              "      <td>Get upto 1000 that’s 10x with our premium spot...</td>\n",
              "      <td>upto s x premium spot trading signals accurate...</td>\n",
              "    </tr>\n",
              "    <tr>\n",
              "      <th>1</th>\n",
              "      <td>Adopted a Hypocat #053, “Crazy Rich Cat” 🤑💵💵💵🤩...</td>\n",
              "      <td>adopted hypocat crazy rich cat hypocatclub meo...</td>\n",
              "    </tr>\n",
              "    <tr>\n",
              "      <th>2</th>\n",
              "      <td>Top 10 Coins by Social Engagement over the las...</td>\n",
              "      <td>coins social engagement hrs lunarcrush btc bit...</td>\n",
              "    </tr>\n",
              "    <tr>\n",
              "      <th>3</th>\n",
              "      <td>Requesting faucet funds into 0x5278942b39deD8c...</td>\n",
              "      <td>requesting faucet funds xbdedcbdadeaecefdca ri...</td>\n",
              "    </tr>\n",
              "    <tr>\n",
              "      <th>4</th>\n",
              "      <td>New Listing BTS 0.008ETH !! \\n#NFTs  #nftcolle...</td>\n",
              "      <td>ew listing bts eth nfts nftcollector nftcommun...</td>\n",
              "    </tr>\n",
              "  </tbody>\n",
              "</table>\n",
              "</div>\n",
              "      <button class=\"colab-df-convert\" onclick=\"convertToInteractive('df-b58dc980-799d-43bc-b04e-9699e1110343')\"\n",
              "              title=\"Convert this dataframe to an interactive table.\"\n",
              "              style=\"display:none;\">\n",
              "        \n",
              "  <svg xmlns=\"http://www.w3.org/2000/svg\" height=\"24px\"viewBox=\"0 0 24 24\"\n",
              "       width=\"24px\">\n",
              "    <path d=\"M0 0h24v24H0V0z\" fill=\"none\"/>\n",
              "    <path d=\"M18.56 5.44l.94 2.06.94-2.06 2.06-.94-2.06-.94-.94-2.06-.94 2.06-2.06.94zm-11 1L8.5 8.5l.94-2.06 2.06-.94-2.06-.94L8.5 2.5l-.94 2.06-2.06.94zm10 10l.94 2.06.94-2.06 2.06-.94-2.06-.94-.94-2.06-.94 2.06-2.06.94z\"/><path d=\"M17.41 7.96l-1.37-1.37c-.4-.4-.92-.59-1.43-.59-.52 0-1.04.2-1.43.59L10.3 9.45l-7.72 7.72c-.78.78-.78 2.05 0 2.83L4 21.41c.39.39.9.59 1.41.59.51 0 1.02-.2 1.41-.59l7.78-7.78 2.81-2.81c.8-.78.8-2.07 0-2.86zM5.41 20L4 18.59l7.72-7.72 1.47 1.35L5.41 20z\"/>\n",
              "  </svg>\n",
              "      </button>\n",
              "      \n",
              "  <style>\n",
              "    .colab-df-container {\n",
              "      display:flex;\n",
              "      flex-wrap:wrap;\n",
              "      gap: 12px;\n",
              "    }\n",
              "\n",
              "    .colab-df-convert {\n",
              "      background-color: #E8F0FE;\n",
              "      border: none;\n",
              "      border-radius: 50%;\n",
              "      cursor: pointer;\n",
              "      display: none;\n",
              "      fill: #1967D2;\n",
              "      height: 32px;\n",
              "      padding: 0 0 0 0;\n",
              "      width: 32px;\n",
              "    }\n",
              "\n",
              "    .colab-df-convert:hover {\n",
              "      background-color: #E2EBFA;\n",
              "      box-shadow: 0px 1px 2px rgba(60, 64, 67, 0.3), 0px 1px 3px 1px rgba(60, 64, 67, 0.15);\n",
              "      fill: #174EA6;\n",
              "    }\n",
              "\n",
              "    [theme=dark] .colab-df-convert {\n",
              "      background-color: #3B4455;\n",
              "      fill: #D2E3FC;\n",
              "    }\n",
              "\n",
              "    [theme=dark] .colab-df-convert:hover {\n",
              "      background-color: #434B5C;\n",
              "      box-shadow: 0px 1px 3px 1px rgba(0, 0, 0, 0.15);\n",
              "      filter: drop-shadow(0px 1px 2px rgba(0, 0, 0, 0.3));\n",
              "      fill: #FFFFFF;\n",
              "    }\n",
              "  </style>\n",
              "\n",
              "      <script>\n",
              "        const buttonEl =\n",
              "          document.querySelector('#df-b58dc980-799d-43bc-b04e-9699e1110343 button.colab-df-convert');\n",
              "        buttonEl.style.display =\n",
              "          google.colab.kernel.accessAllowed ? 'block' : 'none';\n",
              "\n",
              "        async function convertToInteractive(key) {\n",
              "          const element = document.querySelector('#df-b58dc980-799d-43bc-b04e-9699e1110343');\n",
              "          const dataTable =\n",
              "            await google.colab.kernel.invokeFunction('convertToInteractive',\n",
              "                                                     [key], {});\n",
              "          if (!dataTable) return;\n",
              "\n",
              "          const docLinkHtml = 'Like what you see? Visit the ' +\n",
              "            '<a target=\"_blank\" href=https://colab.research.google.com/notebooks/data_table.ipynb>data table notebook</a>'\n",
              "            + ' to learn more about interactive tables.';\n",
              "          element.innerHTML = '';\n",
              "          dataTable['output_type'] = 'display_data';\n",
              "          await google.colab.output.renderOutput(dataTable, element);\n",
              "          const docLink = document.createElement('div');\n",
              "          docLink.innerHTML = docLinkHtml;\n",
              "          element.appendChild(docLink);\n",
              "        }\n",
              "      </script>\n",
              "    </div>\n",
              "  </div>\n",
              "  "
            ]
          },
          "metadata": {},
          "execution_count": 46
        }
      ]
    },
    {
      "cell_type": "code",
      "source": [
        "from textblob import TextBlob\n",
        "\n",
        "def finding_polarity(text):\n",
        "    clean_text = TextBlob(str(text))\n",
        "    pol = clean_text.sentiment.polarity\n",
        "    if(pol==0):\n",
        "        return \"Neutral\"\n",
        "    elif(pol>0 and pol<=0.3):\n",
        "        return \"Weakly Positive\"\n",
        "    elif(pol>0.3 and pol<=0.6):\n",
        "        return \"Positive\"\n",
        "    elif(pol>0.6 and pol<=1):\n",
        "        return \"Strongly Positive\"\n",
        "    elif(pol>-0.3 and pol<=0):\n",
        "        return \"Weakly Negative\"\n",
        "    elif(pol>-0.6 and pol<=-0.3):\n",
        "        return \"Negative\"\n",
        "    elif(pol>-1 and pol<=-0.6):\n",
        "        return \"Strongly Negative\""
      ],
      "metadata": {
        "id": "3wuWRd8Ei2Dq"
      },
      "execution_count": 47,
      "outputs": []
    },
    {
      "cell_type": "code",
      "source": [
        "data[\"polarity\"] = data[\"clean_text\"].apply(finding_polarity)"
      ],
      "metadata": {
        "id": "kNCX_HK6i2BZ"
      },
      "execution_count": 48,
      "outputs": []
    },
    {
      "cell_type": "code",
      "source": [
        "data.head()"
      ],
      "metadata": {
        "colab": {
          "base_uri": "https://localhost:8080/",
          "height": 206
        },
        "id": "gB1DUQdFi12Z",
        "outputId": "688826d1-a1c1-4fed-bccb-6926667abb03"
      },
      "execution_count": 49,
      "outputs": [
        {
          "output_type": "execute_result",
          "data": {
            "text/plain": [
              "                                                text  \\\n",
              "0  Get upto 1000 that’s 10x with our premium spot...   \n",
              "1  Adopted a Hypocat #053, “Crazy Rich Cat” 🤑💵💵💵🤩...   \n",
              "2  Top 10 Coins by Social Engagement over the las...   \n",
              "3  Requesting faucet funds into 0x5278942b39deD8c...   \n",
              "4  New Listing BTS 0.008ETH !! \\n#NFTs  #nftcolle...   \n",
              "\n",
              "                                          clean_text         polarity  \n",
              "0  upto s x premium spot trading signals accurate...  Weakly Positive  \n",
              "1  adopted hypocat crazy rich cat hypocatclub meo...  Weakly Negative  \n",
              "2  coins social engagement hrs lunarcrush btc bit...  Weakly Positive  \n",
              "3  requesting faucet funds xbdedcbdadeaecefdca ri...          Neutral  \n",
              "4  ew listing bts eth nfts nftcollector nftcommun...          Neutral  "
            ],
            "text/html": [
              "\n",
              "  <div id=\"df-4b9e0abc-ab14-4801-a67b-b19347fbfaaa\">\n",
              "    <div class=\"colab-df-container\">\n",
              "      <div>\n",
              "<style scoped>\n",
              "    .dataframe tbody tr th:only-of-type {\n",
              "        vertical-align: middle;\n",
              "    }\n",
              "\n",
              "    .dataframe tbody tr th {\n",
              "        vertical-align: top;\n",
              "    }\n",
              "\n",
              "    .dataframe thead th {\n",
              "        text-align: right;\n",
              "    }\n",
              "</style>\n",
              "<table border=\"1\" class=\"dataframe\">\n",
              "  <thead>\n",
              "    <tr style=\"text-align: right;\">\n",
              "      <th></th>\n",
              "      <th>text</th>\n",
              "      <th>clean_text</th>\n",
              "      <th>polarity</th>\n",
              "    </tr>\n",
              "  </thead>\n",
              "  <tbody>\n",
              "    <tr>\n",
              "      <th>0</th>\n",
              "      <td>Get upto 1000 that’s 10x with our premium spot...</td>\n",
              "      <td>upto s x premium spot trading signals accurate...</td>\n",
              "      <td>Weakly Positive</td>\n",
              "    </tr>\n",
              "    <tr>\n",
              "      <th>1</th>\n",
              "      <td>Adopted a Hypocat #053, “Crazy Rich Cat” 🤑💵💵💵🤩...</td>\n",
              "      <td>adopted hypocat crazy rich cat hypocatclub meo...</td>\n",
              "      <td>Weakly Negative</td>\n",
              "    </tr>\n",
              "    <tr>\n",
              "      <th>2</th>\n",
              "      <td>Top 10 Coins by Social Engagement over the las...</td>\n",
              "      <td>coins social engagement hrs lunarcrush btc bit...</td>\n",
              "      <td>Weakly Positive</td>\n",
              "    </tr>\n",
              "    <tr>\n",
              "      <th>3</th>\n",
              "      <td>Requesting faucet funds into 0x5278942b39deD8c...</td>\n",
              "      <td>requesting faucet funds xbdedcbdadeaecefdca ri...</td>\n",
              "      <td>Neutral</td>\n",
              "    </tr>\n",
              "    <tr>\n",
              "      <th>4</th>\n",
              "      <td>New Listing BTS 0.008ETH !! \\n#NFTs  #nftcolle...</td>\n",
              "      <td>ew listing bts eth nfts nftcollector nftcommun...</td>\n",
              "      <td>Neutral</td>\n",
              "    </tr>\n",
              "  </tbody>\n",
              "</table>\n",
              "</div>\n",
              "      <button class=\"colab-df-convert\" onclick=\"convertToInteractive('df-4b9e0abc-ab14-4801-a67b-b19347fbfaaa')\"\n",
              "              title=\"Convert this dataframe to an interactive table.\"\n",
              "              style=\"display:none;\">\n",
              "        \n",
              "  <svg xmlns=\"http://www.w3.org/2000/svg\" height=\"24px\"viewBox=\"0 0 24 24\"\n",
              "       width=\"24px\">\n",
              "    <path d=\"M0 0h24v24H0V0z\" fill=\"none\"/>\n",
              "    <path d=\"M18.56 5.44l.94 2.06.94-2.06 2.06-.94-2.06-.94-.94-2.06-.94 2.06-2.06.94zm-11 1L8.5 8.5l.94-2.06 2.06-.94-2.06-.94L8.5 2.5l-.94 2.06-2.06.94zm10 10l.94 2.06.94-2.06 2.06-.94-2.06-.94-.94-2.06-.94 2.06-2.06.94z\"/><path d=\"M17.41 7.96l-1.37-1.37c-.4-.4-.92-.59-1.43-.59-.52 0-1.04.2-1.43.59L10.3 9.45l-7.72 7.72c-.78.78-.78 2.05 0 2.83L4 21.41c.39.39.9.59 1.41.59.51 0 1.02-.2 1.41-.59l7.78-7.78 2.81-2.81c.8-.78.8-2.07 0-2.86zM5.41 20L4 18.59l7.72-7.72 1.47 1.35L5.41 20z\"/>\n",
              "  </svg>\n",
              "      </button>\n",
              "      \n",
              "  <style>\n",
              "    .colab-df-container {\n",
              "      display:flex;\n",
              "      flex-wrap:wrap;\n",
              "      gap: 12px;\n",
              "    }\n",
              "\n",
              "    .colab-df-convert {\n",
              "      background-color: #E8F0FE;\n",
              "      border: none;\n",
              "      border-radius: 50%;\n",
              "      cursor: pointer;\n",
              "      display: none;\n",
              "      fill: #1967D2;\n",
              "      height: 32px;\n",
              "      padding: 0 0 0 0;\n",
              "      width: 32px;\n",
              "    }\n",
              "\n",
              "    .colab-df-convert:hover {\n",
              "      background-color: #E2EBFA;\n",
              "      box-shadow: 0px 1px 2px rgba(60, 64, 67, 0.3), 0px 1px 3px 1px rgba(60, 64, 67, 0.15);\n",
              "      fill: #174EA6;\n",
              "    }\n",
              "\n",
              "    [theme=dark] .colab-df-convert {\n",
              "      background-color: #3B4455;\n",
              "      fill: #D2E3FC;\n",
              "    }\n",
              "\n",
              "    [theme=dark] .colab-df-convert:hover {\n",
              "      background-color: #434B5C;\n",
              "      box-shadow: 0px 1px 3px 1px rgba(0, 0, 0, 0.15);\n",
              "      filter: drop-shadow(0px 1px 2px rgba(0, 0, 0, 0.3));\n",
              "      fill: #FFFFFF;\n",
              "    }\n",
              "  </style>\n",
              "\n",
              "      <script>\n",
              "        const buttonEl =\n",
              "          document.querySelector('#df-4b9e0abc-ab14-4801-a67b-b19347fbfaaa button.colab-df-convert');\n",
              "        buttonEl.style.display =\n",
              "          google.colab.kernel.accessAllowed ? 'block' : 'none';\n",
              "\n",
              "        async function convertToInteractive(key) {\n",
              "          const element = document.querySelector('#df-4b9e0abc-ab14-4801-a67b-b19347fbfaaa');\n",
              "          const dataTable =\n",
              "            await google.colab.kernel.invokeFunction('convertToInteractive',\n",
              "                                                     [key], {});\n",
              "          if (!dataTable) return;\n",
              "\n",
              "          const docLinkHtml = 'Like what you see? Visit the ' +\n",
              "            '<a target=\"_blank\" href=https://colab.research.google.com/notebooks/data_table.ipynb>data table notebook</a>'\n",
              "            + ' to learn more about interactive tables.';\n",
              "          element.innerHTML = '';\n",
              "          dataTable['output_type'] = 'display_data';\n",
              "          await google.colab.output.renderOutput(dataTable, element);\n",
              "          const docLink = document.createElement('div');\n",
              "          docLink.innerHTML = docLinkHtml;\n",
              "          element.appendChild(docLink);\n",
              "        }\n",
              "      </script>\n",
              "    </div>\n",
              "  </div>\n",
              "  "
            ]
          },
          "metadata": {},
          "execution_count": 49
        }
      ]
    },
    {
      "cell_type": "code",
      "source": [
        "from textblob import TextBlob\n",
        "\n",
        "def positive_negative(text):\n",
        "  clean_text = TextBlob(str(text))\n",
        "  pol = clean_text.sentiment.polarity\n",
        "\n",
        "  if(pol==0):\n",
        "    return 1\n",
        "  elif(pol>0 and pol<=0.3):\n",
        "    return 1\n",
        "  elif(pol>0.3 and pol<=0.6):\n",
        "    return 1\n",
        "  elif(pol>0.6 and pol<=1):\n",
        "    return 1\n",
        "  elif(pol>-0.3 and pol<=0):\n",
        "    return 0\n",
        "  elif(pol>-0.6 and pol<=-0.3):\n",
        "    return 0\n",
        "  elif(pol>-1 and pol<=-0.6):\n",
        "    return 0"
      ],
      "metadata": {
        "id": "CckachbIjG_-"
      },
      "execution_count": 50,
      "outputs": []
    },
    {
      "cell_type": "code",
      "source": [
        "data[\"label\"] = data[\"clean_text\"].apply(positive_negative)"
      ],
      "metadata": {
        "id": "l0MCcN0hjG7k"
      },
      "execution_count": 51,
      "outputs": []
    },
    {
      "cell_type": "code",
      "source": [
        "data[\"label\"].value_counts()"
      ],
      "metadata": {
        "colab": {
          "base_uri": "https://localhost:8080/"
        },
        "id": "DAPcIXyMjG6D",
        "outputId": "2d8b1b54-e321-49bf-92ec-38755924c891"
      },
      "execution_count": 53,
      "outputs": [
        {
          "output_type": "execute_result",
          "data": {
            "text/plain": [
              "1.0    8282\n",
              "0.0    1640\n",
              "Name: label, dtype: int64"
            ]
          },
          "metadata": {},
          "execution_count": 53
        }
      ]
    },
    {
      "cell_type": "code",
      "source": [
        "num_words = sum([len(word.split()) for word in data[\"clean_text\"]])\n",
        "num_words"
      ],
      "metadata": {
        "colab": {
          "base_uri": "https://localhost:8080/"
        },
        "id": "SwE26G_0jG3M",
        "outputId": "580f2b3a-94e5-4dc8-f4d9-abf649f733ae"
      },
      "execution_count": 55,
      "outputs": [
        {
          "output_type": "execute_result",
          "data": {
            "text/plain": [
              "176391"
            ]
          },
          "metadata": {},
          "execution_count": 55
        }
      ]
    },
    {
      "cell_type": "code",
      "source": [
        "from sklearn.feature_extraction.text import TfidfVectorizer\n",
        "\n",
        "vectorizer = TfidfVectorizer(max_features= 3500)\n",
        "\n",
        "x = vectorizer.fit_transform(data[\"clean_text\"]).toarray()\n",
        "\n",
        "y = data[\"label\"].values.astype(\"int\")\n",
        "\n",
        "x.shape, y.shape"
      ],
      "metadata": {
        "colab": {
          "base_uri": "https://localhost:8080/"
        },
        "id": "xsykCTI-jG08",
        "outputId": "09be87d0-16d4-46a9-d6fb-aed2a296fdb1"
      },
      "execution_count": 58,
      "outputs": [
        {
          "output_type": "execute_result",
          "data": {
            "text/plain": [
              "((10000, 3500), (10000,))"
            ]
          },
          "metadata": {},
          "execution_count": 58
        }
      ]
    },
    {
      "cell_type": "code",
      "source": [
        "from sklearn.model_selection import train_test_split\n",
        "\n",
        "x_train, x_test, y_train, y_test = train_test_split(x,y, test_size= 0.25, random_state= 42)\n",
        "\n",
        "x_train.shape, x_test.shape, y_train.shape, y_test.shape"
      ],
      "metadata": {
        "colab": {
          "base_uri": "https://localhost:8080/"
        },
        "id": "Qno9NTYljGxm",
        "outputId": "048813ef-7707-4886-f2e8-07bf4119b174"
      },
      "execution_count": 69,
      "outputs": [
        {
          "output_type": "execute_result",
          "data": {
            "text/plain": [
              "((7500, 3500), (2500, 3500), (7500,), (2500,))"
            ]
          },
          "metadata": {},
          "execution_count": 69
        }
      ]
    },
    {
      "cell_type": "code",
      "source": [
        "from sklearn.naive_bayes import GaussianNB\n",
        "\n",
        "nav_model = GaussianNB()\n",
        "\n",
        "nav_model.fit(x_train,y_train)\n",
        "\n",
        "print(f\"Training Accuracy : {nav_model.score(x_train,y_train) * 100 : 0.2f} %\")\n",
        "print(f\"Test Accuracy : {nav_model.score(x_test,y_test)* 100 : 0.2f} %\")"
      ],
      "metadata": {
        "colab": {
          "base_uri": "https://localhost:8080/"
        },
        "id": "YU6O4GVIjGvH",
        "outputId": "0ccb74a5-6643-4278-8d0a-dbced4df496b"
      },
      "execution_count": 70,
      "outputs": [
        {
          "output_type": "stream",
          "name": "stdout",
          "text": [
            "Training Accuracy :  85.25 %\n",
            "Test Accuracy :  80.68 %\n"
          ]
        }
      ]
    },
    {
      "cell_type": "code",
      "source": [
        "from sklearn.svm import SVC\n",
        "\n",
        "svc_model = SVC()\n",
        "\n",
        "svc_model.fit(x_test,y_test)\n",
        "\n",
        "print(f\"Training Accuracy: {svc_model.score(x_train, y_train)*100 : 0.2f} %\")\n",
        "print(f\"Test Accuracy: {svc_model.score(x_test,y_test) * 100 : 0.2f} %\")"
      ],
      "metadata": {
        "colab": {
          "base_uri": "https://localhost:8080/"
        },
        "id": "njzkoQYdjGsJ",
        "outputId": "5ef2c37d-4b1f-4579-e9fb-48506f8b1b87"
      },
      "execution_count": 71,
      "outputs": [
        {
          "output_type": "stream",
          "name": "stdout",
          "text": [
            "Training Accuracy:  94.33 %\n",
            "Test Accuracy:  97.16 %\n"
          ]
        }
      ]
    },
    {
      "cell_type": "code",
      "source": [
        "x_test"
      ],
      "metadata": {
        "colab": {
          "base_uri": "https://localhost:8080/"
        },
        "id": "7Uq3ZnQ4jGnD",
        "outputId": "56438403-6c84-4722-8abc-9cd364e9da1c"
      },
      "execution_count": 73,
      "outputs": [
        {
          "output_type": "execute_result",
          "data": {
            "text/plain": [
              "array([[0., 0., 0., ..., 0., 0., 0.],\n",
              "       [0., 0., 0., ..., 0., 0., 0.],\n",
              "       [0., 0., 0., ..., 0., 0., 0.],\n",
              "       ...,\n",
              "       [0., 0., 0., ..., 0., 0., 0.],\n",
              "       [0., 0., 0., ..., 0., 0., 0.],\n",
              "       [0., 0., 0., ..., 0., 0., 0.]])"
            ]
          },
          "metadata": {},
          "execution_count": 73
        }
      ]
    },
    {
      "cell_type": "code",
      "source": [
        "from sklearn.tree import DecisionTreeClassifier\n",
        "from sklearn.model_selection import train_test_split\n",
        "from sklearn.metrics import accuracy_score"
      ],
      "metadata": {
        "id": "lC37IO9399Tf"
      },
      "execution_count": 39,
      "outputs": []
    },
    {
      "cell_type": "code",
      "source": [
        "model = DecisionTreeClassifier()\n",
        "model.fit(z_train, y_train)\n",
        "predictions = model.predict(z_test)\n",
        "predictions"
      ],
      "metadata": {
        "id": "uEP1DOIMBOzp",
        "outputId": "74c30f9e-2cfd-42de-f837-598d83e5bdfd",
        "colab": {
          "base_uri": "https://localhost:8080/"
        }
      },
      "execution_count": 8,
      "outputs": [
        {
          "output_type": "execute_result",
          "data": {
            "text/plain": [
              "array(['Classical', 'Classical'], dtype=object)"
            ]
          },
          "metadata": {},
          "execution_count": 8
        }
      ]
    },
    {
      "cell_type": "code",
      "source": [
        "score = accuracy_score(y_test, predictions)\n",
        "score"
      ],
      "metadata": {
        "id": "tytrK_z-BQEM",
        "outputId": "946601cc-add3-4870-b536-6309f9aae446",
        "colab": {
          "base_uri": "https://localhost:8080/"
        }
      },
      "execution_count": 5,
      "outputs": [
        {
          "output_type": "execute_result",
          "data": {
            "text/plain": [
              "1.0"
            ]
          },
          "metadata": {},
          "execution_count": 5
        }
      ]
    },
    {
      "cell_type": "code",
      "source": [
        ""
      ],
      "metadata": {
        "id": "VPYZB_BnBQew"
      },
      "execution_count": null,
      "outputs": []
    }
  ]
}